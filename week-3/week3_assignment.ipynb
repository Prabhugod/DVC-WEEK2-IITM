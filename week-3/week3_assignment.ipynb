{
 "cells": [
  {
   "cell_type": "markdown",
   "id": "4be42377-1640-4f34-8133-764d2e241d74",
   "metadata": {
    "tags": []
   },
   "source": [
    "### Install and Upgrade Required Python Packages\n",
    "\n",
    "This notebook requires the following Python packages:\n",
    "\n",
    "| Package                     | Purpose                                           |\n",
    "|------------------------------|-------------------------------------------------|\n",
    "| `google-cloud-aiplatform`    | Interact with Google Vertex AI                  |\n",
    "| `joblib`                     | Save and load machine learning models          |\n",
    "| `pandas`                     | Data manipulation and analysis                  |\n",
    "| `scikit-learn`               | Machine learning algorithms and utilities      |"
   ]
  },
  {
   "cell_type": "code",
   "execution_count": 1,
   "id": "2c537bac-0ea7-4c1a-8e5c-367dcbe1f4ca",
   "metadata": {
    "tags": []
   },
   "outputs": [],
   "source": [
    "!pip install --upgrade --quiet google-cloud-aiplatform joblib pandas scikit-learn"
   ]
  },
  {
   "cell_type": "markdown",
   "id": "82c83c49-1326-4760-ba7d-7e30050e226c",
   "metadata": {
    "id": "9065e8d7f0fb"
   },
   "source": [
    "### GCP Configuration: Project, Region and Bucket\n",
    "\n"
   ]
  },
  {
   "cell_type": "code",
   "execution_count": 2,
   "id": "c31563ed-e83d-4403-9b9c-2b465453b895",
   "metadata": {
    "tags": []
   },
   "outputs": [],
   "source": [
    "PROJECT_ID = \"geometric-gamma-472903-q2\"  # @param {type:\"string\"}\n",
    "LOCATION = \"us-central1\"  # @param {type:\"string\"}\n",
    "BUCKET_URI = f\"gs://mlops-iitm-geometric-gamma-472903-q2-v4-unique\"  # @param {type:\"string\"}"
   ]
  },
  {
   "cell_type": "markdown",
   "id": "93d5c7e3-2416-45f4-8d34-87af535fe4d1",
   "metadata": {
    "id": "3330b4f12a0d"
   },
   "source": [
    "### Initialize Vertex AI SDK for Python"
   ]
  },
  {
   "cell_type": "code",
   "execution_count": 3,
   "id": "f553811d-fa28-4655-85ff-fb2d9fc49dc2",
   "metadata": {
    "tags": []
   },
   "outputs": [],
   "source": [
    "from google.cloud import aiplatform\n",
    "aiplatform.init(project=PROJECT_ID, location=LOCATION, staging_bucket=BUCKET_URI)"
   ]
  },
  {
   "cell_type": "markdown",
   "id": "70ba81ff-077f-4188-aea9-9425ef41b66c",
   "metadata": {
    "tags": []
   },
   "source": [
    "### Required Libraries and Module Imports\n",
    "\n",
    "The following libraries and modules are imported for:\n",
    "\n",
    "- Data manipulation and preprocessing (`pandas`, `OrdinalEncoder`)\n",
    "- Machine learning model training and evaluation (`scikit-learn`, `joblib`)\n",
    "- Feature store integration (`feast`)\n",
    "- Cloud interaction (`google-cloud-storage`, `aiplatform`)\n",
    "- Date and file handling (`datetime`, `os`)"
   ]
  },
  {
   "cell_type": "code",
   "execution_count": 4,
   "id": "f365c0c5-e5a5-409f-814f-b544c69a1493",
   "metadata": {
    "tags": []
   },
   "outputs": [],
   "source": [
    "# -------------------------\n",
    "# Standard Library Imports\n",
    "# -------------------------\n",
    "import os\n",
    "import requests\n",
    "from datetime import datetime, timedelta\n",
    "\n",
    "# -------------------------\n",
    "# Data Manipulation & Preprocessing\n",
    "# -------------------------\n",
    "import pandas as pd\n",
    "from sklearn.preprocessing import OrdinalEncoder\n",
    "\n",
    "# -------------------------\n",
    "# Machine Learning\n",
    "# -------------------------\n",
    "from sklearn.model_selection import train_test_split\n",
    "from sklearn.tree import DecisionTreeClassifier\n",
    "from sklearn.metrics import accuracy_score\n",
    "import joblib\n",
    "\n",
    "# -------------------------\n",
    "# Cloud & AI Platform Integration\n",
    "# -------------------------\n",
    "from google.cloud import storage, aiplatform\n",
    "\n",
    "# -------------------------\n",
    "# Feature Store (Feast)\n",
    "# -------------------------\n",
    "from feast import FeatureStore, Entity, FeatureView, FileSource, Field, ValueType\n",
    "from feast.types import Float32, Int64"
   ]
  },
  {
   "cell_type": "markdown",
   "id": "d91558fa-eb68-4bf3-b211-6583b030eac2",
   "metadata": {},
   "source": [
    "### Initialize Feast Feature "
   ]
  },
  {
   "cell_type": "code",
   "execution_count": 5,
   "id": "b14de646-44b7-459d-8240-ab332cce829f",
   "metadata": {
    "tags": []
   },
   "outputs": [
    {
     "name": "stdout",
     "output_type": "stream",
     "text": [
      "\n",
      "Creating a new Feast repository in \u001b[1m\u001b[32m/home/jupyter/week-2/DVC-WEEK2-IITM/week-3/iris_feature_feast_repo\u001b[0m.\n",
      "\n"
     ]
    }
   ],
   "source": [
    "!cd ~/week-2/DVC-WEEK2-IITM/week-3 && feast init iris_feature_feast_repo"
   ]
  },
  {
   "cell_type": "markdown",
   "id": "93ac7c80-4ad0-48f8-9b59-1ca8b9c5797f",
   "metadata": {
    "id": "3330b4f12a0d"
   },
   "source": [
    "### Upload GitHub Data to GCS Bucket and local storage"
   ]
  },
  {
   "cell_type": "code",
   "execution_count": 6,
   "id": "792bafba-6169-4ad3-aeaa-b8edb9513264",
   "metadata": {
    "tags": []
   },
   "outputs": [
    {
     "name": "stdout",
     "output_type": "stream",
     "text": [
      "Saved locally: week-2/DVC-WEEK2-IITM/week-3/data/iris_data_adapted_for_feast.csv\n"
     ]
    }
   ],
   "source": [
    "# Initialize GCS client\n",
    "client = storage.Client(project=PROJECT_ID)\n",
    "bucket_name = BUCKET_URI.split(\"gs://\")[1]\n",
    "bucket = client.bucket(bucket_name)\n",
    "\n",
    "# Files in GitHub 'data' folder with folder structure\n",
    "github_files = {\n",
    "    \"iris_data_adapted_for_feast.csv\": \"https://raw.githubusercontent.com/IITMBSMLOps/ga_resources/week_3/iris_data_adapted_for_feast.csv\"\n",
    "}\n",
    "\n",
    "# Local folder to save files\n",
    "local_base_dir = \"week-2/DVC-WEEK2-IITM/week-3/data\"\n",
    "\n",
    "# Upload to GCS under assignments/week-1/\n",
    "for relative_path, url in github_files.items():\n",
    "    # Download file from GitHub\n",
    "    response = requests.get(url)\n",
    "    response.raise_for_status()\n",
    "    \n",
    "    # Save locally\n",
    "    local_path = os.path.join(local_base_dir, relative_path)\n",
    "    os.makedirs(os.path.dirname(local_path), exist_ok=True)\n",
    "    with open(local_path, \"wb\") as f:\n",
    "        f.write(response.content)\n",
    "    print(f\"Saved locally: {local_path}\")\n",
    "    \n",
    "#     # Set destination path in GCS\n",
    "#     gcs_path = f\"Graded-Assignments/Week-3/data/{relative_path}\"  \n",
    "#     blob = bucket.blob(gcs_path)\n",
    "    \n",
    "#     # Upload to GCS\n",
    "#     blob.upload_from_string(response.content)\n",
    "#     print(f\"Uploaded {relative_path} → gs://{bucket_name}/{gcs_path}\")"
   ]
  },
  {
   "cell_type": "markdown",
   "id": "09c0dc08-e3b8-45f9-a644-05a8a4ec7339",
   "metadata": {
    "id": "XoEqT2Y4DJmf"
   },
   "source": [
    "### Configure Resource Names\n",
    "\n",
    "\n",
    "Set names and paths for storing model artifacts and datasets.\n",
    "\n",
    "| Parameter              | Description                                                                 | Example / Value                                         |\n",
    "|------------------------|-----------------------------------------------------------------------------|--------------------------------------------------------|\n",
    "| `DATA_DIR`             | Local folder path to store dataset files                                    | `\"week-2/DVC-WEEK2-IITM/week-3/data\"`                |\n",
    "| `MODEL_DIR`            | Local folder path to store trained model artifacts and metrics              | `\"week-2/DVC-WEEK2-IITM/week-3/model\"`               |\n",
    "| `CSV_PATH`             | Path to the adapted Iris CSV dataset                                        | `f\"{DATA_DIR}/iris_data_adapted_for_feast.csv\"`      |\n",
    "| `PARQUET_PATH`         | Path to store dataset in Parquet format for Feast                            | `f\"{DATA_DIR}/data_feast.parquet\"`                   |\n",
    "| `MODEL_PATH`           | Path to save the trained ML model                                           | `f\"{MODEL_DIR}/model.joblib\"`                        |\n",
    "| `METRICS_PATH`         | Path to save evaluation metrics                                             | `f\"{MODEL_DIR}/metrics.txt\"`                          |"
   ]
  },
  {
   "cell_type": "code",
   "execution_count": 7,
   "id": "92904b6d-16c1-458c-aa25-f203d10309c3",
   "metadata": {
    "tags": []
   },
   "outputs": [],
   "source": [
    "DATA_DIR = \"week-2/DVC-WEEK2-IITM/week-3/data\"\n",
    "MODEL_DIR = \"week-2/DVC-WEEK2-IITM/week-3/model\"\n",
    "os.makedirs(DATA_DIR, exist_ok=True)\n",
    "os.makedirs(MODEL_DIR, exist_ok=True)\n",
    "\n",
    "CSV_PATH = f\"{DATA_DIR}/iris_data_adapted_for_feast.csv\"\n",
    "PARQUET_PATH = f\"{DATA_DIR}/data_feast.parquet\"\n",
    "MODEL_PATH = f\"{MODEL_DIR}/model.joblib\"\n",
    "METRICS_PATH = f\"{MODEL_DIR}/metrics.txt\""
   ]
  },
  {
   "cell_type": "markdown",
   "id": "465fedd7-3165-45d7-a8bd-01704848bd5c",
   "metadata": {},
   "source": [
    "### Data Preprocessing and Parquet Conversion\n",
    "\n",
    "This section prepares the Iris dataset for feature store ingestion and model training:\n",
    "\n",
    "- Reads the adapted CSV dataset from `CSV_PATH`.\n",
    "- Converts the `iris_id` column to integer type for entity identification.\n",
    "- Converts `event_timestamp` to datetime format.\n",
    "- Encodes the categorical `species` column into integer labels using `OrdinalEncoder`.\n",
    "- Saves the processed dataset as a Parquet file at `PARQUET_PATH` for efficient downstream usage."
   ]
  },
  {
   "cell_type": "code",
   "execution_count": 8,
   "id": "1f8e47da-451d-4ac1-b999-abfe2c1af52d",
   "metadata": {
    "tags": []
   },
   "outputs": [],
   "source": [
    "encoder = OrdinalEncoder()\n",
    "df = pd.read_csv(CSV_PATH)\n",
    "\n",
    "df[\"iris_id\"] = df[\"iris_id\"].astype(\"int64\")             # Ensure integer type for entity\n",
    "df[\"event_timestamp\"] = pd.to_datetime(df[\"event_timestamp\"])  # Timestamp column\n",
    "df[\"species\"] = encoder.fit_transform(df[[\"species\"]]).astype(int)  # Convert labels to int\n",
    "\n",
    "df.to_parquet(PARQUET_PATH, index=False)           # Save as Parquet\n"
   ]
  },
  {
   "cell_type": "markdown",
   "id": "b198bda6-6408-4c99-ae82-c16f99dd7203",
   "metadata": {},
   "source": [
    "### Explore and Analyze Preprocessed Dataset\n",
    "\n",
    "This section inspects the Parquet dataset to verify data types, check for missing values, and perform basic statistical and categorical analysis.\n"
   ]
  },
  {
   "cell_type": "code",
   "execution_count": 9,
   "id": "1513d960-8b3d-41ad-8bef-8c57a7cf711c",
   "metadata": {
    "tags": []
   },
   "outputs": [],
   "source": [
    "# Load the Parquet file\n",
    "df_parquet = pd.read_parquet(PARQUET_PATH)"
   ]
  },
  {
   "cell_type": "code",
   "execution_count": 10,
   "id": "5b9c4a1b-97e3-42d7-8bb9-53aac366d3dd",
   "metadata": {
    "tags": []
   },
   "outputs": [
    {
     "name": "stdout",
     "output_type": "stream",
     "text": [
      "First 5 rows:\n"
     ]
    },
    {
     "data": {
      "text/html": [
       "<div>\n",
       "<style scoped>\n",
       "    .dataframe tbody tr th:only-of-type {\n",
       "        vertical-align: middle;\n",
       "    }\n",
       "\n",
       "    .dataframe tbody tr th {\n",
       "        vertical-align: top;\n",
       "    }\n",
       "\n",
       "    .dataframe thead th {\n",
       "        text-align: right;\n",
       "    }\n",
       "</style>\n",
       "<table border=\"1\" class=\"dataframe\">\n",
       "  <thead>\n",
       "    <tr style=\"text-align: right;\">\n",
       "      <th></th>\n",
       "      <th>event_timestamp</th>\n",
       "      <th>iris_id</th>\n",
       "      <th>sepal_length</th>\n",
       "      <th>sepal_width</th>\n",
       "      <th>petal_length</th>\n",
       "      <th>petal_width</th>\n",
       "      <th>species</th>\n",
       "      <th>created_timestamp</th>\n",
       "    </tr>\n",
       "  </thead>\n",
       "  <tbody>\n",
       "    <tr>\n",
       "      <th>0</th>\n",
       "      <td>2025-09-17 10:40:17.102131</td>\n",
       "      <td>1001</td>\n",
       "      <td>5.52</td>\n",
       "      <td>2.53</td>\n",
       "      <td>3.86</td>\n",
       "      <td>1.13</td>\n",
       "      <td>1</td>\n",
       "      <td>2025-10-02 10:40:17.172178</td>\n",
       "    </tr>\n",
       "    <tr>\n",
       "      <th>1</th>\n",
       "      <td>2025-09-18 10:40:17.102131</td>\n",
       "      <td>1001</td>\n",
       "      <td>5.50</td>\n",
       "      <td>2.24</td>\n",
       "      <td>3.60</td>\n",
       "      <td>1.08</td>\n",
       "      <td>1</td>\n",
       "      <td>2025-10-02 10:40:17.172178</td>\n",
       "    </tr>\n",
       "    <tr>\n",
       "      <th>2</th>\n",
       "      <td>2025-09-19 10:40:17.102131</td>\n",
       "      <td>1001</td>\n",
       "      <td>5.55</td>\n",
       "      <td>2.47</td>\n",
       "      <td>3.75</td>\n",
       "      <td>1.08</td>\n",
       "      <td>1</td>\n",
       "      <td>2025-10-02 10:40:17.172178</td>\n",
       "    </tr>\n",
       "    <tr>\n",
       "      <th>3</th>\n",
       "      <td>2025-09-20 10:40:17.102131</td>\n",
       "      <td>1001</td>\n",
       "      <td>5.45</td>\n",
       "      <td>2.37</td>\n",
       "      <td>3.92</td>\n",
       "      <td>1.20</td>\n",
       "      <td>1</td>\n",
       "      <td>2025-10-02 10:40:17.172178</td>\n",
       "    </tr>\n",
       "    <tr>\n",
       "      <th>4</th>\n",
       "      <td>2025-09-21 10:40:17.102131</td>\n",
       "      <td>1001</td>\n",
       "      <td>5.65</td>\n",
       "      <td>2.52</td>\n",
       "      <td>3.95</td>\n",
       "      <td>1.17</td>\n",
       "      <td>1</td>\n",
       "      <td>2025-10-02 10:40:17.172178</td>\n",
       "    </tr>\n",
       "  </tbody>\n",
       "</table>\n",
       "</div>"
      ],
      "text/plain": [
       "             event_timestamp  iris_id  sepal_length  sepal_width  \\\n",
       "0 2025-09-17 10:40:17.102131     1001          5.52         2.53   \n",
       "1 2025-09-18 10:40:17.102131     1001          5.50         2.24   \n",
       "2 2025-09-19 10:40:17.102131     1001          5.55         2.47   \n",
       "3 2025-09-20 10:40:17.102131     1001          5.45         2.37   \n",
       "4 2025-09-21 10:40:17.102131     1001          5.65         2.52   \n",
       "\n",
       "   petal_length  petal_width  species           created_timestamp  \n",
       "0          3.86         1.13        1  2025-10-02 10:40:17.172178  \n",
       "1          3.60         1.08        1  2025-10-02 10:40:17.172178  \n",
       "2          3.75         1.08        1  2025-10-02 10:40:17.172178  \n",
       "3          3.92         1.20        1  2025-10-02 10:40:17.172178  \n",
       "4          3.95         1.17        1  2025-10-02 10:40:17.172178  "
      ]
     },
     "metadata": {},
     "output_type": "display_data"
    }
   ],
   "source": [
    "# Display first few rows\n",
    "print(\"First 5 rows:\")\n",
    "display(df_parquet.head())"
   ]
  },
  {
   "cell_type": "code",
   "execution_count": 11,
   "id": "6634617d-ffdc-4a55-a2ca-b798717a157a",
   "metadata": {
    "tags": []
   },
   "outputs": [
    {
     "name": "stdout",
     "output_type": "stream",
     "text": [
      "\n",
      "Data types:\n",
      "event_timestamp      datetime64[ns]\n",
      "iris_id                       int64\n",
      "sepal_length                float64\n",
      "sepal_width                 float64\n",
      "petal_length                float64\n",
      "petal_width                 float64\n",
      "species                       int64\n",
      "created_timestamp            object\n",
      "dtype: object\n"
     ]
    }
   ],
   "source": [
    "# Check data types\n",
    "print(\"\\nData types:\")\n",
    "print(df_parquet.dtypes)"
   ]
  },
  {
   "cell_type": "code",
   "execution_count": 12,
   "id": "36dbc655-9712-483d-92f9-6c94bbcbf667",
   "metadata": {
    "tags": []
   },
   "outputs": [
    {
     "name": "stdout",
     "output_type": "stream",
     "text": [
      "\n",
      "Summary statistics:\n"
     ]
    },
    {
     "data": {
      "text/html": [
       "<div>\n",
       "<style scoped>\n",
       "    .dataframe tbody tr th:only-of-type {\n",
       "        vertical-align: middle;\n",
       "    }\n",
       "\n",
       "    .dataframe tbody tr th {\n",
       "        vertical-align: top;\n",
       "    }\n",
       "\n",
       "    .dataframe thead th {\n",
       "        text-align: right;\n",
       "    }\n",
       "</style>\n",
       "<table border=\"1\" class=\"dataframe\">\n",
       "  <thead>\n",
       "    <tr style=\"text-align: right;\">\n",
       "      <th></th>\n",
       "      <th>event_timestamp</th>\n",
       "      <th>iris_id</th>\n",
       "      <th>sepal_length</th>\n",
       "      <th>sepal_width</th>\n",
       "      <th>petal_length</th>\n",
       "      <th>petal_width</th>\n",
       "      <th>species</th>\n",
       "    </tr>\n",
       "  </thead>\n",
       "  <tbody>\n",
       "    <tr>\n",
       "      <th>count</th>\n",
       "      <td>45</td>\n",
       "      <td>45.000000</td>\n",
       "      <td>45.000000</td>\n",
       "      <td>45.000000</td>\n",
       "      <td>45.000000</td>\n",
       "      <td>45.000000</td>\n",
       "      <td>45.000000</td>\n",
       "    </tr>\n",
       "    <tr>\n",
       "      <th>mean</th>\n",
       "      <td>2025-09-24 10:40:17.102130688</td>\n",
       "      <td>1002.000000</td>\n",
       "      <td>5.155556</td>\n",
       "      <td>2.956889</td>\n",
       "      <td>2.218000</td>\n",
       "      <td>0.518222</td>\n",
       "      <td>0.333333</td>\n",
       "    </tr>\n",
       "    <tr>\n",
       "      <th>min</th>\n",
       "      <td>2025-09-17 10:40:17.102131</td>\n",
       "      <td>1001.000000</td>\n",
       "      <td>4.690000</td>\n",
       "      <td>2.190000</td>\n",
       "      <td>1.190000</td>\n",
       "      <td>-0.130000</td>\n",
       "      <td>0.000000</td>\n",
       "    </tr>\n",
       "    <tr>\n",
       "      <th>25%</th>\n",
       "      <td>2025-09-20 10:40:17.102130944</td>\n",
       "      <td>1001.000000</td>\n",
       "      <td>4.900000</td>\n",
       "      <td>2.480000</td>\n",
       "      <td>1.390000</td>\n",
       "      <td>0.200000</td>\n",
       "      <td>0.000000</td>\n",
       "    </tr>\n",
       "    <tr>\n",
       "      <th>50%</th>\n",
       "      <td>2025-09-24 10:40:17.102130944</td>\n",
       "      <td>1002.000000</td>\n",
       "      <td>5.100000</td>\n",
       "      <td>3.010000</td>\n",
       "      <td>1.510000</td>\n",
       "      <td>0.310000</td>\n",
       "      <td>0.000000</td>\n",
       "    </tr>\n",
       "    <tr>\n",
       "      <th>75%</th>\n",
       "      <td>2025-09-28 10:40:17.102130944</td>\n",
       "      <td>1003.000000</td>\n",
       "      <td>5.450000</td>\n",
       "      <td>3.420000</td>\n",
       "      <td>3.770000</td>\n",
       "      <td>1.060000</td>\n",
       "      <td>1.000000</td>\n",
       "    </tr>\n",
       "    <tr>\n",
       "      <th>max</th>\n",
       "      <td>2025-10-01 10:40:17.102131</td>\n",
       "      <td>1003.000000</td>\n",
       "      <td>5.650000</td>\n",
       "      <td>3.670000</td>\n",
       "      <td>3.950000</td>\n",
       "      <td>1.310000</td>\n",
       "      <td>1.000000</td>\n",
       "    </tr>\n",
       "    <tr>\n",
       "      <th>std</th>\n",
       "      <td>NaN</td>\n",
       "      <td>0.825723</td>\n",
       "      <td>0.285367</td>\n",
       "      <td>0.456423</td>\n",
       "      <td>1.155581</td>\n",
       "      <td>0.437661</td>\n",
       "      <td>0.476731</td>\n",
       "    </tr>\n",
       "  </tbody>\n",
       "</table>\n",
       "</div>"
      ],
      "text/plain": [
       "                     event_timestamp      iris_id  sepal_length  sepal_width  \\\n",
       "count                             45    45.000000     45.000000    45.000000   \n",
       "mean   2025-09-24 10:40:17.102130688  1002.000000      5.155556     2.956889   \n",
       "min       2025-09-17 10:40:17.102131  1001.000000      4.690000     2.190000   \n",
       "25%    2025-09-20 10:40:17.102130944  1001.000000      4.900000     2.480000   \n",
       "50%    2025-09-24 10:40:17.102130944  1002.000000      5.100000     3.010000   \n",
       "75%    2025-09-28 10:40:17.102130944  1003.000000      5.450000     3.420000   \n",
       "max       2025-10-01 10:40:17.102131  1003.000000      5.650000     3.670000   \n",
       "std                              NaN     0.825723      0.285367     0.456423   \n",
       "\n",
       "       petal_length  petal_width    species  \n",
       "count     45.000000    45.000000  45.000000  \n",
       "mean       2.218000     0.518222   0.333333  \n",
       "min        1.190000    -0.130000   0.000000  \n",
       "25%        1.390000     0.200000   0.000000  \n",
       "50%        1.510000     0.310000   0.000000  \n",
       "75%        3.770000     1.060000   1.000000  \n",
       "max        3.950000     1.310000   1.000000  \n",
       "std        1.155581     0.437661   0.476731  "
      ]
     },
     "metadata": {},
     "output_type": "display_data"
    }
   ],
   "source": [
    "# Summary statistics for numerical columns\n",
    "print(\"\\nSummary statistics:\")\n",
    "display(df_parquet.describe())"
   ]
  },
  {
   "cell_type": "markdown",
   "id": "8d52df21-4b7f-4435-9cd8-c0966885a28a",
   "metadata": {
    "tags": []
   },
   "source": [
    "### Define Entity for Feature Store\n",
    "\n",
    "In Feast, an **Entity** represents a primary object or “thing” in the data for which features are recorded.  \n",
    "Here, we define an entity for the Iris dataset.\n"
   ]
  },
  {
   "cell_type": "code",
   "execution_count": 13,
   "id": "7a1c44ee-48e9-429b-b661-81997cd6c946",
   "metadata": {
    "tags": []
   },
   "outputs": [],
   "source": [
    "iris_entity = Entity(\n",
    "    name=\"iris_id\",\n",
    "    join_keys=[\"iris_id\"],\n",
    "    value_type=ValueType.INT64,\n",
    "    description=\"Unique identifier for each iris plant\"\n",
    ")"
   ]
  },
  {
   "cell_type": "markdown",
   "id": "6de44236-224a-4497-87b4-a15ea1d90df7",
   "metadata": {},
   "source": [
    "### Define Feature Data Source\n",
    "\n",
    "This block defines the **data source** for Feast.  \n",
    "\n",
    "- `FileSource` tells Feast where to find the feature data.  \n",
    "- `path` points to the Parquet file containing the preprocessed dataset.  \n",
    "- `event_timestamp_column` specifies the timestamp column used for point-in-time correctness during feature retrieval."
   ]
  },
  {
   "cell_type": "code",
   "execution_count": 14,
   "id": "4c9857bd-d7f0-4e32-89d6-c264bbac3c06",
   "metadata": {
    "tags": []
   },
   "outputs": [],
   "source": [
    "iris_source = FileSource(\n",
    "    path='/home/jupyter/week-2/DVC-WEEK2-IITM/week-3/data/data_feast.parquet',\n",
    "    event_timestamp_column=\"event_timestamp\"\n",
    ")"
   ]
  },
  {
   "cell_type": "markdown",
   "id": "69c84c32-7af4-4cf0-a5cc-ddc0b78e675c",
   "metadata": {},
   "source": [
    "### Define FeatureView for Iris Dataset\n",
    "\n",
    "A **FeatureView** in Feast defines a set of features associated with one or more entities.  \n",
    "It specifies **what features to store, their types, and how long they are valid**.\n",
    "\n",
    "- `name` : `\"iris_features\"` – the name of this FeatureView in Feast.  \n",
    "- `entities` : `[iris_entity]` – the entity/entities these features belong to (`iris_id`).  \n",
    "- `ttl` : `timedelta(days=1)` – time-to-live for feature values in the online store.  \n",
    "- `schema` : List of `Field` objects defining the feature names and their data types:  \n",
    "  - `sepal_length`, `sepal_width`, `petal_length`, `petal_width` → `Float32`  \n",
    "  - `species` → `Int64`  \n",
    "- `source` : `iris_source` – the FileSource where the feature data is read from.  \n",
    "- `online` : `True` – indicates that features will be available for online (real-time) serving.\n",
    "\n",
    "**Purpose:**  \n",
    "This FeatureView enables Feast to **ingest, store, and serve these features** for training ML models or online prediction, while keeping track of timestamps and entity associations.\n"
   ]
  },
  {
   "cell_type": "code",
   "execution_count": 15,
   "id": "05deeae8-4ad9-4b76-9469-aefaaac06c93",
   "metadata": {
    "tags": []
   },
   "outputs": [],
   "source": [
    "iris_fv = FeatureView(\n",
    "    name=\"iris_features\",\n",
    "    entities=[iris_entity],\n",
    "    ttl=timedelta(days=1),\n",
    "    schema=[\n",
    "        Field(name=\"sepal_length\", dtype=Float32),\n",
    "        Field(name=\"sepal_width\", dtype=Float32),\n",
    "        Field(name=\"petal_length\", dtype=Float32),\n",
    "        Field(name=\"petal_width\", dtype=Float32),\n",
    "        Field(name=\"species\", dtype=Int64)\n",
    "    ],\n",
    "    source=iris_source,\n",
    "    online=True\n",
    ")"
   ]
  },
  {
   "cell_type": "markdown",
   "id": "725a4bf0-b559-47ae-95fe-badb1e978274",
   "metadata": {},
   "source": [
    "### Initialize and Apply FeatureStore\n",
    "\n",
    "In Feast, the **FeatureStore** is the main interface to manage entities, feature views, and feature data.  \n",
    "\n",
    "- `repo_path` : Path to the local feature repository where Feast metadata is stored.  \n",
    "- `fs.apply([...])` : Registers the defined **entities** and **feature views** with the FeatureStore, making them available for ingestion, storage, and retrieval.\n",
    "\n",
    "**Purpose:**  \n",
    "- This step finalizes the Feast setup, ensuring that the **`iris_entity`** and **`iris_fv`** FeatureView are active in the FeatureStore.  \n",
    "- Once applied, features can be ingested and later served for **training ML models** or **online predictions**.\n"
   ]
  },
  {
   "cell_type": "code",
   "execution_count": 24,
   "id": "5bdb2b03-571b-4ab1-b326-5f042bf72da9",
   "metadata": {
    "tags": []
   },
   "outputs": [],
   "source": [
    "fs = FeatureStore(repo_path=\"/home/jupyter/week-2/DVC-WEEK2-IITM/week-3/iris_feature_feast_repo/feature_repo\")\n",
    "fs.apply([iris_entity, iris_fv])"
   ]
  },
  {
   "cell_type": "markdown",
   "id": "d38b9e05-09c6-4b2b-a2dd-cedda36f2cb6",
   "metadata": {},
   "source": [
    "### Materialize Feature Data into the Feature Store\n",
    "\n",
    "The `materialize` function loads feature data from the **offline source** into the **online feature store** for serving.  \n",
    "\n",
    "- `start_date` : The beginning of the time range for which feature values should be materialized.  \n",
    "- `end_date` : The end of the time range.  \n",
    "\n",
    "**How it works:**  \n",
    "- Feast reads the features from the `FileSource` (Parquet file) for all entities (`iris_id`) within the given timestamp range.  \n",
    "- The data is then stored in the **online store**, making it available for **real-time retrieval** during model inference or evaluation.\n",
    "\n",
    "**Purpose:**  \n",
    "- Ensures that features are up-to-date in the FeatureStore and ready for **training or online prediction**.\n"
   ]
  },
  {
   "cell_type": "code",
   "execution_count": 25,
   "id": "bf41e927-7ff4-428f-85da-55c0c6c86d54",
   "metadata": {
    "tags": []
   },
   "outputs": [
    {
     "name": "stdout",
     "output_type": "stream",
     "text": [
      "Materializing \u001b[1m\u001b[32m1\u001b[0m feature views from \u001b[1m\u001b[32m2025-09-17 10:40:17+00:00\u001b[0m to \u001b[1m\u001b[32m2025-10-01 10:40:17+00:00\u001b[0m into the \u001b[1m\u001b[32msqlite\u001b[0m online store.\n",
      "\n",
      "\u001b[1m\u001b[32miris_features\u001b[0m:\n"
     ]
    }
   ],
   "source": [
    "fs.materialize(\n",
    "    start_date=df[\"event_timestamp\"].min(),\n",
    "    end_date=df[\"event_timestamp\"].max()\n",
    ")"
   ]
  },
  {
   "cell_type": "markdown",
   "id": "834540b2-5793-4f15-be64-91b1daaf584c",
   "metadata": {},
   "source": [
    "### Preview Dataset for FeatureStore Entities\n",
    "\n",
    "Before ingesting data into Feast, it is often useful to **inspect the entity dataframe**:  \n",
    "\n",
    "- `entity_df = df.copy()` : Creates a copy of the preprocessed dataset to avoid modifying the original `df`.  \n",
    "- `entity_df.head()` : Displays the first few rows to verify that the columns, data types, and values are correct for Feast ingestion.  \n",
    "\n",
    "**Purpose:**  \n",
    "- Confirms that the entity column (`iris_id`), timestamp (`event_timestamp`), and features (`sepal_length`, `sepal_width`, etc.) are properly formatted.  \n",
    "- Helps catch any issues early before materializing features into the FeatureStore.\n"
   ]
  },
  {
   "cell_type": "code",
   "execution_count": 26,
   "id": "7ce14bda-8907-4c34-be22-e21869853850",
   "metadata": {
    "tags": []
   },
   "outputs": [
    {
     "data": {
      "text/html": [
       "<div>\n",
       "<style scoped>\n",
       "    .dataframe tbody tr th:only-of-type {\n",
       "        vertical-align: middle;\n",
       "    }\n",
       "\n",
       "    .dataframe tbody tr th {\n",
       "        vertical-align: top;\n",
       "    }\n",
       "\n",
       "    .dataframe thead th {\n",
       "        text-align: right;\n",
       "    }\n",
       "</style>\n",
       "<table border=\"1\" class=\"dataframe\">\n",
       "  <thead>\n",
       "    <tr style=\"text-align: right;\">\n",
       "      <th></th>\n",
       "      <th>event_timestamp</th>\n",
       "      <th>iris_id</th>\n",
       "      <th>sepal_length</th>\n",
       "      <th>sepal_width</th>\n",
       "      <th>petal_length</th>\n",
       "      <th>petal_width</th>\n",
       "      <th>species</th>\n",
       "      <th>created_timestamp</th>\n",
       "    </tr>\n",
       "  </thead>\n",
       "  <tbody>\n",
       "    <tr>\n",
       "      <th>0</th>\n",
       "      <td>2025-09-17 10:40:17.102131</td>\n",
       "      <td>1001</td>\n",
       "      <td>5.52</td>\n",
       "      <td>2.53</td>\n",
       "      <td>3.86</td>\n",
       "      <td>1.13</td>\n",
       "      <td>1</td>\n",
       "      <td>2025-10-02 10:40:17.172178</td>\n",
       "    </tr>\n",
       "    <tr>\n",
       "      <th>1</th>\n",
       "      <td>2025-09-18 10:40:17.102131</td>\n",
       "      <td>1001</td>\n",
       "      <td>5.50</td>\n",
       "      <td>2.24</td>\n",
       "      <td>3.60</td>\n",
       "      <td>1.08</td>\n",
       "      <td>1</td>\n",
       "      <td>2025-10-02 10:40:17.172178</td>\n",
       "    </tr>\n",
       "    <tr>\n",
       "      <th>2</th>\n",
       "      <td>2025-09-19 10:40:17.102131</td>\n",
       "      <td>1001</td>\n",
       "      <td>5.55</td>\n",
       "      <td>2.47</td>\n",
       "      <td>3.75</td>\n",
       "      <td>1.08</td>\n",
       "      <td>1</td>\n",
       "      <td>2025-10-02 10:40:17.172178</td>\n",
       "    </tr>\n",
       "    <tr>\n",
       "      <th>3</th>\n",
       "      <td>2025-09-20 10:40:17.102131</td>\n",
       "      <td>1001</td>\n",
       "      <td>5.45</td>\n",
       "      <td>2.37</td>\n",
       "      <td>3.92</td>\n",
       "      <td>1.20</td>\n",
       "      <td>1</td>\n",
       "      <td>2025-10-02 10:40:17.172178</td>\n",
       "    </tr>\n",
       "    <tr>\n",
       "      <th>4</th>\n",
       "      <td>2025-09-21 10:40:17.102131</td>\n",
       "      <td>1001</td>\n",
       "      <td>5.65</td>\n",
       "      <td>2.52</td>\n",
       "      <td>3.95</td>\n",
       "      <td>1.17</td>\n",
       "      <td>1</td>\n",
       "      <td>2025-10-02 10:40:17.172178</td>\n",
       "    </tr>\n",
       "  </tbody>\n",
       "</table>\n",
       "</div>"
      ],
      "text/plain": [
       "             event_timestamp  iris_id  sepal_length  sepal_width  \\\n",
       "0 2025-09-17 10:40:17.102131     1001          5.52         2.53   \n",
       "1 2025-09-18 10:40:17.102131     1001          5.50         2.24   \n",
       "2 2025-09-19 10:40:17.102131     1001          5.55         2.47   \n",
       "3 2025-09-20 10:40:17.102131     1001          5.45         2.37   \n",
       "4 2025-09-21 10:40:17.102131     1001          5.65         2.52   \n",
       "\n",
       "   petal_length  petal_width  species           created_timestamp  \n",
       "0          3.86         1.13        1  2025-10-02 10:40:17.172178  \n",
       "1          3.60         1.08        1  2025-10-02 10:40:17.172178  \n",
       "2          3.75         1.08        1  2025-10-02 10:40:17.172178  \n",
       "3          3.92         1.20        1  2025-10-02 10:40:17.172178  \n",
       "4          3.95         1.17        1  2025-10-02 10:40:17.172178  "
      ]
     },
     "execution_count": 26,
     "metadata": {},
     "output_type": "execute_result"
    }
   ],
   "source": [
    "entity_df = df.copy() \n",
    "entity_df.head()"
   ]
  },
  {
   "cell_type": "markdown",
   "id": "af41edae-60af-4bb7-80b4-40eefe862188",
   "metadata": {},
   "source": [
    "### Retrieve Historical Features for Training\n",
    "\n",
    "This step fetches **historical feature values** from Feast to prepare the dataset for model training.\n",
    "\n",
    "- `fs.get_historical_features(...)` : Retrieves feature values for the entities in `entity_df` using the defined FeatureView(s).  \n",
    "- `entity_df` : The dataframe containing the entity column (`iris_id`) and timestamp (`event_timestamp`) used to join features.  \n",
    "- `features` : List of features to fetch from Feast. Each feature is specified as `\"FeatureViewName:feature_name\"`.  \n",
    "- `.to_df()` : Converts the returned Feast dataset into a Pandas DataFrame suitable for training.\n",
    "\n",
    "**Purpose:**  \n",
    "- Ensures that the **training dataset includes features from the FeatureStore** with proper point-in-time correctness.  \n",
    "- The resulting `training_data` dataframe is ready for **machine learning model training**.\n"
   ]
  },
  {
   "cell_type": "code",
   "execution_count": 27,
   "id": "1397bcff-c0f8-4504-9e6c-1dd7ab1e3042",
   "metadata": {
    "tags": []
   },
   "outputs": [],
   "source": [
    "training_data = fs.get_historical_features(\n",
    "    entity_df=entity_df,\n",
    "    features=[\n",
    "        \"iris_features:sepal_length\",\n",
    "        \"iris_features:sepal_width\",\n",
    "        \"iris_features:petal_length\",\n",
    "        \"iris_features:petal_width\",\n",
    "        \"iris_features:species\"\n",
    "    ]\n",
    ").to_df()"
   ]
  },
  {
   "cell_type": "markdown",
   "id": "89ed7221-98a4-43e4-8ea1-e1137b1e45d8",
   "metadata": {},
   "source": [
    "### Train and Evaluate Decision Tree Classifier\n",
    "\n",
    "This section trains a **Decision Tree Classifier** on the historical features retrieved from the Feast FeatureStore and evaluates its performance.\n",
    "\n",
    "**Steps:**\n",
    "\n",
    "1. **Prepare Features and Target**\n",
    "   - `X` contains the feature columns: `sepal_length`, `sepal_width`, `petal_length`, `petal_width`.\n",
    "   - `y` is the target variable: `species`.\n",
    "\n",
    "2. **Split the Dataset**\n",
    "   - Use `train_test_split` to divide data into training (60%) and test (40%) sets.\n",
    "   - `stratify=y` ensures class proportions are maintained in both sets.\n",
    "   - `random_state=42` ensures reproducibility.\n",
    "\n",
    "3. **Train the Model**\n",
    "   - `DecisionTreeClassifier` is initialized with `max_depth=3` for simplicity and interpretability.\n",
    "   - Fit the model on the training set (`X_train`, `y_train`).\n",
    "\n",
    "4. **Evaluate Model**\n",
    "   - Predict on the test set (`X_test`) and compute accuracy using `accuracy_score`.\n",
    "   - Print the training accuracy.\n",
    "\n",
    "5. **Save Model and Metrics**\n",
    "   - Save the trained model to `MODEL_PATH` using `joblib.dump`.\n",
    "   - Save the evaluation metrics (accuracy) to `METRICS_PATH`.\n",
    "\n",
    "**Purpose:**  \n",
    "- Train a simple, interpretable ML model using features managed in Feast.  \n",
    "- Persist both the model and metrics for future use, such as deployment or reporting.\n"
   ]
  },
  {
   "cell_type": "code",
   "execution_count": 28,
   "id": "5e778222-679a-4180-9e86-a0802b685fae",
   "metadata": {
    "tags": []
   },
   "outputs": [
    {
     "name": "stdout",
     "output_type": "stream",
     "text": [
      "Training Accuracy: 1.0000\n",
      "Model saved at week-2/DVC-WEEK2-IITM/week-3/model/model.joblib and metrics saved at week-2/DVC-WEEK2-IITM/week-3/model/metrics.txt\n"
     ]
    }
   ],
   "source": [
    "X = training_data[[\"sepal_length\", \"sepal_width\", \"petal_length\", \"petal_width\"]]\n",
    "y = training_data[\"species\"]\n",
    "\n",
    "X_train, X_test, y_train, y_test = train_test_split(X, y, test_size=0.4, stratify=y, random_state=42)\n",
    "\n",
    "model = DecisionTreeClassifier(max_depth=3, random_state=1)\n",
    "model.fit(X_train, y_train)\n",
    "\n",
    "preds = model.predict(X_test)\n",
    "acc = accuracy_score(y_test, preds)\n",
    "print(f\"Training Accuracy: {acc:.4f}\")\n",
    "\n",
    "# Save model and metrics\n",
    "joblib.dump(model, MODEL_PATH)\n",
    "with open(METRICS_PATH, \"w\") as f:\n",
    "    f.write(f\"Training accuracy: {acc:.3f}\\n\")\n",
    "print(f\"Model saved at {MODEL_PATH} and metrics saved at {METRICS_PATH}\")"
   ]
  },
  {
   "cell_type": "markdown",
   "id": "f991e3fd-5663-4dfc-aebc-558935797f1b",
   "metadata": {},
   "source": [
    "### Retrieve Online Features from FeatureStore\n",
    "\n",
    "This section demonstrates how to fetch **real-time feature values** from the **Feast online store**.\n",
    "\n",
    "- `fs.get_online_features(...)` : Queries the online store for the latest feature values.  \n",
    "- `features` : List of features to retrieve, specified as `\"FeatureViewName:feature_name\"`.  \n",
    "- `entity_rows` : List of dictionaries containing entity keys for which to fetch features.  \n",
    "  - Here, `iris_id` values 1001, 1002, 1003 are queried.  \n",
    "- `.to_df()` : Converts the returned data into a Pandas DataFrame.\n",
    "\n",
    "**Purpose:**  \n",
    "- Allows real-time inference by retrieving the latest features for specific entities.  \n",
    "- Ensures that the features used for prediction are consistent with those used during training.\n"
   ]
  },
  {
   "cell_type": "code",
   "execution_count": 29,
   "id": "cf5b9b4d-0aa2-4f99-b099-4e449d1709ac",
   "metadata": {
    "tags": []
   },
   "outputs": [
    {
     "name": "stdout",
     "output_type": "stream",
     "text": [
      "   iris_id  petal_width  sepal_length  petal_length  sepal_width\n",
      "0     1001         1.09          5.45          3.84         2.36\n",
      "1     1002         0.20          4.84          1.29         2.90\n",
      "2     1003         0.29          4.85          1.19         3.40\n"
     ]
    }
   ],
   "source": [
    "online_features = fs.get_online_features(\n",
    "    features=[\n",
    "        \"iris_features:sepal_length\",\n",
    "        \"iris_features:sepal_width\",\n",
    "        \"iris_features:petal_length\",\n",
    "        \"iris_features:petal_width\"\n",
    "    ],\n",
    "    entity_rows=[{\"iris_id\": i} for i in range(1001, 1004)]\n",
    ").to_df()\n",
    "print(online_features)"
   ]
  },
  {
   "cell_type": "markdown",
   "id": "32892d3d-00b8-4a9b-8b4b-8783c4a9a991",
   "metadata": {},
   "source": [
    "## Make Online Predictions Using the Trained Model\n",
    "\n",
    "This section demonstrates how to use the trained Decision Tree model to make **real-time predictions** using features fetched from Feast's online store."
   ]
  },
  {
   "cell_type": "markdown",
   "id": "5801bd48-3ef2-4b00-b4ad-ec4fddd4dcd8",
   "metadata": {},
   "source": [
    "### Step 1: Load the trained model"
   ]
  },
  {
   "cell_type": "code",
   "execution_count": 30,
   "id": "6cdff1df-5127-441f-ba09-d431c93f0bcf",
   "metadata": {
    "tags": []
   },
   "outputs": [],
   "source": [
    "model = joblib.load(MODEL_PATH)"
   ]
  },
  {
   "cell_type": "markdown",
   "id": "4cc87da0-c309-4746-9a4f-eea50d485dc6",
   "metadata": {},
   "source": [
    "### Step 2: Prepare online features"
   ]
  },
  {
   "cell_type": "code",
   "execution_count": 31,
   "id": "6d39eda9-a6b4-4e71-93f7-ec9789d951e7",
   "metadata": {
    "tags": []
   },
   "outputs": [],
   "source": [
    "X_live = online_features.drop(columns=[\"iris_id\"])\n",
    "X_live = X_live[X.columns]"
   ]
  },
  {
   "cell_type": "markdown",
   "id": "0dfd8df4-6354-457c-8d74-a70d915dd6ff",
   "metadata": {},
   "source": [
    "### Step 3: Make predictions"
   ]
  },
  {
   "cell_type": "code",
   "execution_count": 32,
   "id": "a7807842-0f0b-47b2-bb27-9078a61500e1",
   "metadata": {
    "tags": []
   },
   "outputs": [],
   "source": [
    "live_preds = model.predict(X_live)"
   ]
  },
  {
   "cell_type": "markdown",
   "id": "772d89bf-5f11-4e50-810b-33998a9880ef",
   "metadata": {},
   "source": [
    "### Step 4: Decode predictions"
   ]
  },
  {
   "cell_type": "code",
   "execution_count": 33,
   "id": "4573fd45-d427-4d0f-954e-cd5993d5dc50",
   "metadata": {
    "tags": []
   },
   "outputs": [],
   "source": [
    "decoded_preds = encoder.inverse_transform([[p] for p in live_preds])"
   ]
  },
  {
   "cell_type": "markdown",
   "id": "bd038223-16bf-4af9-bd1e-48bc86a481dc",
   "metadata": {},
   "source": [
    "### Step 5: Print predictions per entity"
   ]
  },
  {
   "cell_type": "code",
   "execution_count": 34,
   "id": "5d89e6d2-6368-48ec-9472-7717290b17e2",
   "metadata": {
    "tags": []
   },
   "outputs": [
    {
     "name": "stdout",
     "output_type": "stream",
     "text": [
      "iris_id 1001 ➝ predicted species: versicolor\n",
      "iris_id 1002 ➝ predicted species: setosa\n",
      "iris_id 1003 ➝ predicted species: setosa\n"
     ]
    }
   ],
   "source": [
    "for fid, label in zip(online_features[\"iris_id\"], decoded_preds):\n",
    "    print(f\"iris_id {fid} ➝ predicted species: {label[0]}\")"
   ]
  },
  {
   "cell_type": "code",
   "execution_count": null,
   "id": "06066a1a-15b8-430d-a576-ce088fcb3700",
   "metadata": {},
   "outputs": [],
   "source": []
  }
 ],
 "metadata": {
  "environment": {
   "kernel": "conda-base-py",
   "name": "workbench-notebooks.m133",
   "type": "gcloud",
   "uri": "us-docker.pkg.dev/deeplearning-platform-release/gcr.io/workbench-notebooks:m133"
  },
  "kernelspec": {
   "display_name": "Python 3 (ipykernel)",
   "language": "python",
   "name": "conda-base-py"
  },
  "language_info": {
   "codemirror_mode": {
    "name": "ipython",
    "version": 3
   },
   "file_extension": ".py",
   "mimetype": "text/x-python",
   "name": "python",
   "nbconvert_exporter": "python",
   "pygments_lexer": "ipython3",
   "version": "3.10.18"
  }
 },
 "nbformat": 4,
 "nbformat_minor": 5
}
